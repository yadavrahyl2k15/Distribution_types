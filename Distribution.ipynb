{
  "nbformat": 4,
  "nbformat_minor": 0,
  "metadata": {
    "colab": {
      "name": "Distribution.ipynb",
      "provenance": [],
      "authorship_tag": "ABX9TyPRyxMSEmJNLDbzsiQiQZ66",
      "include_colab_link": true
    },
    "kernelspec": {
      "name": "python3",
      "display_name": "Python 3"
    }
  },
  "cells": [
    {
      "cell_type": "markdown",
      "metadata": {
        "id": "view-in-github",
        "colab_type": "text"
      },
      "source": [
        "<a href=\"https://colab.research.google.com/github/yadavrahyl2k15/Distribution_types/blob/main/Distribution.ipynb\" target=\"_parent\"><img src=\"https://colab.research.google.com/assets/colab-badge.svg\" alt=\"Open In Colab\"/></a>"
      ]
    },
    {
      "cell_type": "code",
      "metadata": {
        "id": "0yuWMLLkpQ0Y"
      },
      "source": [
        "import scipy\n",
        "import numpy as np"
      ],
      "execution_count": null,
      "outputs": []
    },
    {
      "cell_type": "markdown",
      "metadata": {
        "id": "6rMmDs0QtuT7"
      },
      "source": [
        "Binomial distribution "
      ]
    },
    {
      "cell_type": "markdown",
      "metadata": {
        "id": "IfdPFN60ulsJ"
      },
      "source": [
        "QUES. A survey found that 65% of all financial instution consumer were stastified with there primary instution.suppose 25 consumer are randomly slected in a survey and result hold today.what is probability that exactly 19 are statisfied?  "
      ]
    },
    {
      "cell_type": "code",
      "metadata": {
        "colab": {
          "base_uri": "https://localhost:8080/"
        },
        "id": "Ot3uV6XrpVnU",
        "outputId": "85a40303-d273-4061-c1a7-b56b84e97723"
      },
      "source": [
        "from scipy.stats import binom\n",
        "binom.pmf(k=19,n=25,p=0.65)"
      ],
      "execution_count": null,
      "outputs": [
        {
          "output_type": "execute_result",
          "data": {
            "text/plain": [
              "0.09077799859322791"
            ]
          },
          "metadata": {
            "tags": []
          },
          "execution_count": 2
        }
      ]
    },
    {
      "cell_type": "markdown",
      "metadata": {
        "id": "rAnsz4b9vSX6"
      },
      "source": [
        "QUES. According to a census 6 % are unemployed in a population .in a random telephonic survey what is probability of getting 2 or fewer unemployed worker in sample of 20?"
      ]
    },
    {
      "cell_type": "code",
      "metadata": {
        "colab": {
          "base_uri": "https://localhost:8080/"
        },
        "id": "pBnqTvM5qYgV",
        "outputId": "ad8ec0a1-9d2b-464f-d1cf-8b98ac69f79a"
      },
      "source": [
        "binom.cdf(2,20,0.06)"
      ],
      "execution_count": null,
      "outputs": [
        {
          "output_type": "execute_result",
          "data": {
            "text/plain": [
              "0.8850275957378545"
            ]
          },
          "metadata": {
            "tags": []
          },
          "execution_count": 3
        }
      ]
    },
    {
      "cell_type": "markdown",
      "metadata": {
        "id": "_VEIFkqht2Qq"
      },
      "source": [
        "Poisson Distribution"
      ]
    },
    {
      "cell_type": "markdown",
      "metadata": {
        "id": "Oy0gGyElvtAc"
      },
      "source": [
        "Ques.Suppose on weekday afternoon in a bank consumer arraving at an average of 3.2 customer every 4 minutes.What is probability of exactly 5 customer arriving at 4 minute interval?"
      ]
    },
    {
      "cell_type": "code",
      "metadata": {
        "colab": {
          "base_uri": "https://localhost:8080/"
        },
        "id": "d_JsklMmqlJg",
        "outputId": "55979b6a-16d1-4b94-a021-11a9e0fface2"
      },
      "source": [
        "from scipy.stats import poisson\n",
        "poisson.pmf(5,3.2)"
      ],
      "execution_count": null,
      "outputs": [
        {
          "output_type": "execute_result",
          "data": {
            "text/plain": [
              "0.11397938346351824"
            ]
          },
          "metadata": {
            "tags": []
          },
          "execution_count": 4
        }
      ]
    },
    {
      "cell_type": "markdown",
      "metadata": {
        "id": "5tjokrzcwawL"
      },
      "source": [
        "Ques.Suppose on weekday afternoon in a bank consumer arraving at an average of 3.2 customer every 4 minutes.What is probability of more than 7 customer arriving at 4 minute interval?"
      ]
    },
    {
      "cell_type": "code",
      "metadata": {
        "colab": {
          "base_uri": "https://localhost:8080/"
        },
        "id": "ImoNAqnmq4hr",
        "outputId": "24b8b386-59a7-42dc-c790-ff7ca26b4ae0"
      },
      "source": [
        "prob=poisson.pmf(7,3.2)\n",
        "p=1-prob\n",
        "p"
      ],
      "execution_count": null,
      "outputs": [
        {
          "output_type": "execute_result",
          "data": {
            "text/plain": [
              "0.9722107407936565"
            ]
          },
          "metadata": {
            "tags": []
          },
          "execution_count": 7
        }
      ]
    },
    {
      "cell_type": "markdown",
      "metadata": {
        "id": "N7HCx3eXt7Ux"
      },
      "source": [
        "Unifrom distribution"
      ]
    },
    {
      "cell_type": "markdown",
      "metadata": {
        "id": "6P-cLOldwjRU"
      },
      "source": [
        "QUES.suppose in a mould on assembly line the amount of time taken ranges from 27 to 39 seconds and are uniformally distributed.find out mean,std.devaiton and find out probability will take between 30 and 35 seconds?"
      ]
    },
    {
      "cell_type": "code",
      "metadata": {
        "colab": {
          "base_uri": "https://localhost:8080/"
        },
        "id": "36LzoM3NrGEN",
        "outputId": "71fa81ff-1e0c-401d-dea2-3dfc2ceb16f1"
      },
      "source": [
        "u=np.arange(27,40,1)\n",
        "u"
      ],
      "execution_count": null,
      "outputs": [
        {
          "output_type": "execute_result",
          "data": {
            "text/plain": [
              "array([27, 28, 29, 30, 31, 32, 33, 34, 35, 36, 37, 38, 39])"
            ]
          },
          "metadata": {
            "tags": []
          },
          "execution_count": 8
        }
      ]
    },
    {
      "cell_type": "code",
      "metadata": {
        "colab": {
          "base_uri": "https://localhost:8080/"
        },
        "id": "d1YaNFyirYiC",
        "outputId": "12a6d961-e163-4aea-ce01-75f843410e04"
      },
      "source": [
        "from scipy.stats import uniform\n",
        "uniform.mean(loc=27,scale=12)"
      ],
      "execution_count": null,
      "outputs": [
        {
          "output_type": "execute_result",
          "data": {
            "text/plain": [
              "33.0"
            ]
          },
          "metadata": {
            "tags": []
          },
          "execution_count": 9
        }
      ]
    },
    {
      "cell_type": "code",
      "metadata": {
        "colab": {
          "base_uri": "https://localhost:8080/"
        },
        "id": "EqhCmXPGrlJP",
        "outputId": "00c13871-17ec-4888-e235-391c039aac69"
      },
      "source": [
        "uniform.cdf(np.arange(30,36,1),loc=27,scale=12)"
      ],
      "execution_count": null,
      "outputs": [
        {
          "output_type": "execute_result",
          "data": {
            "text/plain": [
              "array([0.25      , 0.33333333, 0.41666667, 0.5       , 0.58333333,\n",
              "       0.66666667])"
            ]
          },
          "metadata": {
            "tags": []
          },
          "execution_count": 10
        }
      ]
    },
    {
      "cell_type": "code",
      "metadata": {
        "colab": {
          "base_uri": "https://localhost:8080/"
        },
        "id": "KOSfdYsaryZH",
        "outputId": "43d2272c-6054-4a0f-e7ff-d5c25eb5e795"
      },
      "source": [
        "prob= 0.66 - 0.25\n",
        "prob"
      ],
      "execution_count": null,
      "outputs": [
        {
          "output_type": "execute_result",
          "data": {
            "text/plain": [
              "0.41000000000000003"
            ]
          },
          "metadata": {
            "tags": []
          },
          "execution_count": 14
        }
      ]
    },
    {
      "cell_type": "code",
      "metadata": {
        "colab": {
          "base_uri": "https://localhost:8080/"
        },
        "id": "tnmyB5LosBsc",
        "outputId": "a782913c-eaef-4311-dd99-daac3fa2a828"
      },
      "source": [
        "uniform.std(loc=27,scale=12)"
      ],
      "execution_count": null,
      "outputs": [
        {
          "output_type": "execute_result",
          "data": {
            "text/plain": [
              "3.4641016151377544"
            ]
          },
          "metadata": {
            "tags": []
          },
          "execution_count": 15
        }
      ]
    },
    {
      "cell_type": "markdown",
      "metadata": {
        "id": "l2iNIL5Vt_h3"
      },
      "source": [
        "Normal Distribution"
      ]
    },
    {
      "cell_type": "markdown",
      "metadata": {
        "id": "mjIXbHqRxMX8"
      },
      "source": [
        "QUES.what is probability of obtaining a score greater than 700 on gmat with mean=494,std. deviation=100.gmat is normally distributed? "
      ]
    },
    {
      "cell_type": "code",
      "metadata": {
        "colab": {
          "base_uri": "https://localhost:8080/"
        },
        "id": "2mt75eL6scZn",
        "outputId": "f0bace26-91fe-434e-dead-68864e3357db"
      },
      "source": [
        "from scipy.stats import norm\n",
        "1-norm.cdf(700,494,100)"
      ],
      "execution_count": null,
      "outputs": [
        {
          "output_type": "execute_result",
          "data": {
            "text/plain": [
              "0.019699270409376912"
            ]
          },
          "metadata": {
            "tags": []
          },
          "execution_count": 16
        }
      ]
    },
    {
      "cell_type": "markdown",
      "metadata": {
        "id": "R08IA_RXxx0H"
      },
      "source": [
        "QUES.what is probability of obtaining a score less than 550 on gmat with mean=494,std. deviation=100.gmat is normally distributed? "
      ]
    },
    {
      "cell_type": "code",
      "metadata": {
        "colab": {
          "base_uri": "https://localhost:8080/"
        },
        "id": "r33gWcZqsuod",
        "outputId": "07035c6a-a6e8-44e5-f9e6-62cb3e2928b9"
      },
      "source": [
        "norm.cdf(550,494,100)"
      ],
      "execution_count": null,
      "outputs": [
        {
          "output_type": "execute_result",
          "data": {
            "text/plain": [
              "0.712260281150973"
            ]
          },
          "metadata": {
            "tags": []
          },
          "execution_count": 17
        }
      ]
    },
    {
      "cell_type": "markdown",
      "metadata": {
        "id": "LozWBjxbx2-9"
      },
      "source": [
        "QUES.what is probability of obtaining a score between 450 and 350 on gmat with mean=494,std. deviation=100.gmat is normally distributed? "
      ]
    },
    {
      "cell_type": "code",
      "metadata": {
        "colab": {
          "base_uri": "https://localhost:8080/"
        },
        "id": "IQiGNCFHs0X2",
        "outputId": "efa8cf08-2293-451f-9f44-25a740ac5927"
      },
      "source": [
        "norm.cdf(450,494,100)-norm.cdf(350,494,100)"
      ],
      "execution_count": null,
      "outputs": [
        {
          "output_type": "execute_result",
          "data": {
            "text/plain": [
              "0.2550348541262666"
            ]
          },
          "metadata": {
            "tags": []
          },
          "execution_count": 18
        }
      ]
    },
    {
      "cell_type": "markdown",
      "metadata": {
        "id": "EMnRvyRVuEhl"
      },
      "source": [
        "Hypergeometric Distribution"
      ]
    },
    {
      "cell_type": "markdown",
      "metadata": {
        "id": "KLrIgg5fx-6c"
      },
      "source": [
        "QUES.Western city has 18 police offiers eligible for promotions and 11 out of 18 are hispanic.suppose 5 are choosen for promotion.what is probability of 1 or fewer of 5 are hispanic?"
      ]
    },
    {
      "cell_type": "code",
      "metadata": {
        "colab": {
          "base_uri": "https://localhost:8080/"
        },
        "id": "VB0w-cGas_uk",
        "outputId": "0a8bdc1f-f760-424c-a8e6-34a5279c3380"
      },
      "source": [
        "from scipy.stats import hypergeom\n",
        "hypergeom.cdf(1,18,5,11)"
      ],
      "execution_count": null,
      "outputs": [
        {
          "output_type": "execute_result",
          "data": {
            "text/plain": [
              "0.04738562091503275"
            ]
          },
          "metadata": {
            "tags": []
          },
          "execution_count": 19
        }
      ]
    },
    {
      "cell_type": "markdown",
      "metadata": {
        "id": "WQPQe9hxybwR"
      },
      "source": [
        "QUES.Western city has 18 police offiers eligible for promotions and 11 out of 18 are hispanic.suppose 5 are choosen for promotion.what is probability of 1 or more of 5 are hispanic?"
      ]
    },
    {
      "cell_type": "code",
      "metadata": {
        "colab": {
          "base_uri": "https://localhost:8080/"
        },
        "id": "YD0oUpuTtRhZ",
        "outputId": "61ad5aa8-5c66-43ba-8586-6dca63d9d034"
      },
      "source": [
        "hypergeom.sf(0,18,5,11)        #sf=1-cdf,x-1=1-1=0"
      ],
      "execution_count": null,
      "outputs": [
        {
          "output_type": "execute_result",
          "data": {
            "text/plain": [
              "0.9975490196078446"
            ]
          },
          "metadata": {
            "tags": []
          },
          "execution_count": 20
        }
      ]
    },
    {
      "cell_type": "markdown",
      "metadata": {
        "id": "DwxcHXNeuP7w"
      },
      "source": [
        "Exponential Distribution"
      ]
    },
    {
      "cell_type": "markdown",
      "metadata": {
        "id": "FvVHqXHyypiF"
      },
      "source": [
        "QUES.Parts are randomly selected and tested from the records of these tests.it has been established that a defective part occurs in a pattern that a poission distributed on the average of 1.38 defects every 20 minutes.Determine the probability taht less than 15 minutes will elaps between 2 defects?"
      ]
    },
    {
      "cell_type": "code",
      "metadata": {
        "colab": {
          "base_uri": "https://localhost:8080/"
        },
        "id": "BCv-M5sytWVj",
        "outputId": "74a300a3-878d-47c4-cfdf-9adca85f09e1"
      },
      "source": [
        "from scipy.stats import expon\n",
        "expon.cdf(15/20,0,1/1.38)"
      ],
      "execution_count": null,
      "outputs": [
        {
          "output_type": "execute_result",
          "data": {
            "text/plain": [
              "0.6447736190750485"
            ]
          },
          "metadata": {
            "tags": []
          },
          "execution_count": 21
        }
      ]
    },
    {
      "cell_type": "code",
      "metadata": {
        "id": "GFgiKuq5tirZ"
      },
      "source": [
        ""
      ],
      "execution_count": null,
      "outputs": []
    }
  ]
}